{
 "cells": [
  {
   "cell_type": "code",
   "execution_count": 1,
   "metadata": {},
   "outputs": [],
   "source": [
    "import numpy as np\n",
    "import pandas as pd\n",
    "from sklearn.datasets import load_digits#importing dataset\n",
    "digits=load_digits()"
   ]
  },
  {
   "cell_type": "code",
   "execution_count": 2,
   "metadata": {},
   "outputs": [
    {
     "name": "stdout",
     "output_type": "stream",
     "text": [
      "(1797, 64)\n"
     ]
    }
   ],
   "source": [
    "print(digits.data.shape)#dataset shape 64 dimensions"
   ]
  },
  {
   "cell_type": "code",
   "execution_count": 3,
   "metadata": {},
   "outputs": [
    {
     "data": {
      "text/plain": [
       "{'data': array([[ 0.,  0.,  5., ...,  0.,  0.,  0.],\n",
       "        [ 0.,  0.,  0., ..., 10.,  0.,  0.],\n",
       "        [ 0.,  0.,  0., ..., 16.,  9.,  0.],\n",
       "        ...,\n",
       "        [ 0.,  0.,  1., ...,  6.,  0.,  0.],\n",
       "        [ 0.,  0.,  2., ..., 12.,  0.,  0.],\n",
       "        [ 0.,  0., 10., ..., 12.,  1.,  0.]]),\n",
       " 'target': array([0, 1, 2, ..., 8, 9, 8]),\n",
       " 'target_names': array([0, 1, 2, 3, 4, 5, 6, 7, 8, 9]),\n",
       " 'images': array([[[ 0.,  0.,  5., ...,  1.,  0.,  0.],\n",
       "         [ 0.,  0., 13., ..., 15.,  5.,  0.],\n",
       "         [ 0.,  3., 15., ..., 11.,  8.,  0.],\n",
       "         ...,\n",
       "         [ 0.,  4., 11., ..., 12.,  7.,  0.],\n",
       "         [ 0.,  2., 14., ..., 12.,  0.,  0.],\n",
       "         [ 0.,  0.,  6., ...,  0.,  0.,  0.]],\n",
       " \n",
       "        [[ 0.,  0.,  0., ...,  5.,  0.,  0.],\n",
       "         [ 0.,  0.,  0., ...,  9.,  0.,  0.],\n",
       "         [ 0.,  0.,  3., ...,  6.,  0.,  0.],\n",
       "         ...,\n",
       "         [ 0.,  0.,  1., ...,  6.,  0.,  0.],\n",
       "         [ 0.,  0.,  1., ...,  6.,  0.,  0.],\n",
       "         [ 0.,  0.,  0., ..., 10.,  0.,  0.]],\n",
       " \n",
       "        [[ 0.,  0.,  0., ..., 12.,  0.,  0.],\n",
       "         [ 0.,  0.,  3., ..., 14.,  0.,  0.],\n",
       "         [ 0.,  0.,  8., ..., 16.,  0.,  0.],\n",
       "         ...,\n",
       "         [ 0.,  9., 16., ...,  0.,  0.,  0.],\n",
       "         [ 0.,  3., 13., ..., 11.,  5.,  0.],\n",
       "         [ 0.,  0.,  0., ..., 16.,  9.,  0.]],\n",
       " \n",
       "        ...,\n",
       " \n",
       "        [[ 0.,  0.,  1., ...,  1.,  0.,  0.],\n",
       "         [ 0.,  0., 13., ...,  2.,  1.,  0.],\n",
       "         [ 0.,  0., 16., ..., 16.,  5.,  0.],\n",
       "         ...,\n",
       "         [ 0.,  0., 16., ..., 15.,  0.,  0.],\n",
       "         [ 0.,  0., 15., ..., 16.,  0.,  0.],\n",
       "         [ 0.,  0.,  2., ...,  6.,  0.,  0.]],\n",
       " \n",
       "        [[ 0.,  0.,  2., ...,  0.,  0.,  0.],\n",
       "         [ 0.,  0., 14., ..., 15.,  1.,  0.],\n",
       "         [ 0.,  4., 16., ..., 16.,  7.,  0.],\n",
       "         ...,\n",
       "         [ 0.,  0.,  0., ..., 16.,  2.,  0.],\n",
       "         [ 0.,  0.,  4., ..., 16.,  2.,  0.],\n",
       "         [ 0.,  0.,  5., ..., 12.,  0.,  0.]],\n",
       " \n",
       "        [[ 0.,  0., 10., ...,  1.,  0.,  0.],\n",
       "         [ 0.,  2., 16., ...,  1.,  0.,  0.],\n",
       "         [ 0.,  0., 15., ..., 15.,  0.,  0.],\n",
       "         ...,\n",
       "         [ 0.,  4., 16., ..., 16.,  6.,  0.],\n",
       "         [ 0.,  8., 16., ..., 16.,  8.,  0.],\n",
       "         [ 0.,  1.,  8., ..., 12.,  1.,  0.]]]),\n",
       " 'DESCR': \".. _digits_dataset:\\n\\nOptical recognition of handwritten digits dataset\\n--------------------------------------------------\\n\\n**Data Set Characteristics:**\\n\\n    :Number of Instances: 5620\\n    :Number of Attributes: 64\\n    :Attribute Information: 8x8 image of integer pixels in the range 0..16.\\n    :Missing Attribute Values: None\\n    :Creator: E. Alpaydin (alpaydin '@' boun.edu.tr)\\n    :Date: July; 1998\\n\\nThis is a copy of the test set of the UCI ML hand-written digits datasets\\nhttp://archive.ics.uci.edu/ml/datasets/Optical+Recognition+of+Handwritten+Digits\\n\\nThe data set contains images of hand-written digits: 10 classes where\\neach class refers to a digit.\\n\\nPreprocessing programs made available by NIST were used to extract\\nnormalized bitmaps of handwritten digits from a preprinted form. From a\\ntotal of 43 people, 30 contributed to the training set and different 13\\nto the test set. 32x32 bitmaps are divided into nonoverlapping blocks of\\n4x4 and the number of on pixels are counted in each block. This generates\\nan input matrix of 8x8 where each element is an integer in the range\\n0..16. This reduces dimensionality and gives invariance to small\\ndistortions.\\n\\nFor info on NIST preprocessing routines, see M. D. Garris, J. L. Blue, G.\\nT. Candela, D. L. Dimmick, J. Geist, P. J. Grother, S. A. Janet, and C.\\nL. Wilson, NIST Form-Based Handprint Recognition System, NISTIR 5469,\\n1994.\\n\\n.. topic:: References\\n\\n  - C. Kaynak (1995) Methods of Combining Multiple Classifiers and Their\\n    Applications to Handwritten Digit Recognition, MSc Thesis, Institute of\\n    Graduate Studies in Science and Engineering, Bogazici University.\\n  - E. Alpaydin, C. Kaynak (1998) Cascading Classifiers, Kybernetika.\\n  - Ken Tang and Ponnuthurai N. Suganthan and Xi Yao and A. Kai Qin.\\n    Linear dimensionalityreduction using relevance weighted LDA. School of\\n    Electrical and Electronic Engineering Nanyang Technological University.\\n    2005.\\n  - Claudio Gentile. A New Approximate Maximal Margin Classification\\n    Algorithm. NIPS. 2000.\"}"
      ]
     },
     "execution_count": 3,
     "metadata": {},
     "output_type": "execute_result"
    }
   ],
   "source": [
    "digits#viewing the dataset"
   ]
  },
  {
   "cell_type": "code",
   "execution_count": 4,
   "metadata": {},
   "outputs": [],
   "source": [
    "import matplotlib.pyplot as plt\n",
    "import seaborn as sns #for plots"
   ]
  },
  {
   "cell_type": "code",
   "execution_count": 5,
   "metadata": {},
   "outputs": [
    {
     "data": {
      "image/png": "[encoded data removed]",
      "text/plain": [
       "<Figure size 216x216 with 1 Axes>"
      ]
     },
     "metadata": {
      "needs_background": "light"
     },
     "output_type": "display_data"
    }
   ],
   "source": [
    "plt.figure(1, figsize=(3, 3))\n",
    "plt.imshow(digits.images[-1], cmap=plt.cm.gray_r, interpolation='nearest')\n",
    "plt.show()"
   ]
  },
  {
   "cell_type": "code",
   "execution_count": 6,
   "metadata": {},
   "outputs": [
    {
     "data": {
      "text/plain": [
       "<Figure size 432x288 with 0 Axes>"
      ]
     },
     "metadata": {},
     "output_type": "display_data"
    },
    {
     "data": {
      "image/png": "[encoded data removed]",
      "text/plain": [
       "<Figure size 288x288 with 1 Axes>"
      ]
     },
     "metadata": {
      "needs_background": "light"
     },
     "output_type": "display_data"
    }
   ],
   "source": [
    "plt.gray() \n",
    "plt.matshow(digits.images[0]) \n",
    "plt.show() #looks like 0"
   ]
  },
  {
   "cell_type": "code",
   "execution_count": 7,
   "metadata": {},
   "outputs": [
    {
     "data": {
      "image/png": "[encoded data removed]",
      "text/plain": [
       "<Figure size 288x288 with 1 Axes>"
      ]
     },
     "metadata": {
      "needs_background": "light"
     },
     "output_type": "display_data"
    }
   ],
   "source": [
    "plt.matshow(digits.images[1]) \n",
    "plt.show()  #looks like 1"
   ]
  },
  {
   "cell_type": "code",
   "execution_count": 8,
   "metadata": {},
   "outputs": [],
   "source": [
    "#separting feature and target\n",
    "feature= digits.data#features\n",
    "target=digits.target#target"
   ]
  },
  {
   "cell_type": "code",
   "execution_count": 9,
   "metadata": {},
   "outputs": [
    {
     "data": {
      "text/plain": [
       "4"
      ]
     },
     "execution_count": 9,
     "metadata": {},
     "output_type": "execute_result"
    }
   ],
   "source": [
    "target[100]#what target 100 holds\n"
   ]
  },
  {
   "cell_type": "code",
   "execution_count": 10,
   "metadata": {},
   "outputs": [
    {
     "data": {
      "text/plain": [
       "array([ 0.,  0.,  0.,  2., 13.,  0.,  0.,  0.,  0.,  0.,  0.,  8., 15.,\n",
       "        0.,  0.,  0.,  0.,  0.,  5., 16.,  5.,  2.,  0.,  0.,  0.,  0.,\n",
       "       15., 12.,  1., 16.,  4.,  0.,  0.,  4., 16.,  2.,  9., 16.,  8.,\n",
       "        0.,  0.,  0., 10., 14., 16., 16.,  4.,  0.,  0.,  0.,  0.,  0.,\n",
       "       13.,  8.,  0.,  0.,  0.,  0.,  0.,  0., 13.,  6.,  0.,  0.])"
      ]
     },
     "execution_count": 10,
     "metadata": {},
     "output_type": "execute_result"
    }
   ],
   "source": [
    "feature[100]#what features 100 holds "
   ]
  },
  {
   "cell_type": "code",
   "execution_count": 11,
   "metadata": {
    "scrolled": true
   },
   "outputs": [
    {
     "data": {
      "image/png": "[encoded data removed]",
      "text/plain": [
       "<Figure size 288x288 with 1 Axes>"
      ]
     },
     "metadata": {
      "needs_background": "light"
     },
     "output_type": "display_data"
    }
   ],
   "source": [
    "plt.matshow(digits.images[100])#image at feature[100] \n",
    "plt.show()\n",
    "#4 same as that suggester by target"
   ]
  },
  {
   "cell_type": "code",
   "execution_count": 47,
   "metadata": {},
   "outputs": [],
   "source": [
    "#spliting the data into test and train set\n",
    "#Although xTest and yTest are not used\n",
    "from sklearn.model_selection import train_test_split\n",
    "xTrain, xTest, yTrain, yTest = train_test_split(feature, target, test_size = 0.2, random_state = 0)"
   ]
  },
  {
   "cell_type": "code",
   "execution_count": 13,
   "metadata": {},
   "outputs": [
    {
     "name": "stdout",
     "output_type": "stream",
     "text": [
      "(1437, 64)\n",
      "(360, 64)\n"
     ]
    }
   ],
   "source": [
    "#checking if the split worked\n",
    "print(xTrain.shape)\n",
    "print(xTest.shape)"
   ]
  },
  {
   "cell_type": "code",
   "execution_count": 14,
   "metadata": {},
   "outputs": [],
   "source": [
    "from sklearn.preprocessing import StandardScaler# for standarizing thh dataset"
   ]
  },
  {
   "cell_type": "code",
   "execution_count": 15,
   "metadata": {},
   "outputs": [],
   "source": [
    "from sklearn.metrics import confusion_matrix"
   ]
  },
  {
   "cell_type": "code",
   "execution_count": 16,
   "metadata": {},
   "outputs": [
    {
     "name": "stdout",
     "output_type": "stream",
     "text": [
      "[[ 0.  0.  0.  9. 15.  2.  0.  0.]\n",
      " [ 0.  0.  5. 16. 11.  1.  0.  0.]\n",
      " [ 0.  0. 13. 15.  1.  0.  0.  0.]\n",
      " [ 0.  2. 16. 11.  0.  0.  0.  0.]\n",
      " [ 0.  2. 16. 11.  4.  4.  0.  0.]\n",
      " [ 0.  2. 15. 16. 16. 14. 10.  1.]\n",
      " [ 0.  0.  9. 16.  7.  3. 15.  6.]\n",
      " [ 0.  0.  0.  7. 15. 16. 16.  6.]]\n"
     ]
    },
    {
     "data": {
      "image/png": "[encoded data removed]",
      "text/plain": [
       "<Figure size 432x288 with 1 Axes>"
      ]
     },
     "metadata": {
      "needs_background": "light"
     },
     "output_type": "display_data"
    }
   ],
   "source": [
    "matrix = xTrain[0].reshape(8,8)\n",
    "print (matrix)\n",
    "plt.imshow(matrix)\n",
    "plt.show()\n",
    "#end of playing with the dataset "
   ]
  },
  {
   "cell_type": "code",
   "execution_count": 17,
   "metadata": {},
   "outputs": [
    {
     "name": "stdout",
     "output_type": "stream",
     "text": [
      "[0.00000000e+00 3.12456507e-01 5.22129436e+00 1.17842728e+01\n",
      " 1.18705637e+01 5.84342380e+00 1.34794711e+00 1.25956855e-01\n",
      " 4.87125957e-03 1.99234516e+00 1.04050104e+01 1.20535839e+01\n",
      " 1.03639527e+01 8.22686152e+00 1.82254697e+00 9.53375087e-02\n",
      " 1.39178845e-03 2.58037578e+00 9.85316632e+00 6.99860821e+00\n",
      " 7.11691023e+00 7.83855254e+00 1.77453027e+00 4.80167015e-02\n",
      " 6.95894224e-04 2.47459986e+00 9.10090466e+00 8.81210856e+00\n",
      " 9.91858038e+00 7.52261656e+00 2.34585943e+00 2.08768267e-03\n",
      " 0.00000000e+00 2.35838553e+00 7.62769659e+00 9.06680585e+00\n",
      " 1.02894920e+01 8.74947808e+00 2.96729297e+00 0.00000000e+00\n",
      " 9.04662491e-03 1.60960334e+00 6.94084899e+00 7.23312457e+00\n",
      " 7.70633264e+00 8.25330550e+00 3.43562978e+00 2.92275574e-02\n",
      " 9.04662491e-03 7.26513570e-01 7.57550452e+00 9.58524704e+00\n",
      " 9.52957550e+00 8.79679889e+00 3.62212944e+00 1.86499652e-01\n",
      " 6.95894224e-04 2.91579680e-01 5.57689631e+00 1.20521921e+01\n",
      " 1.18197634e+01 6.71468337e+00 1.97633960e+00 3.21503132e-01]\n",
      "SCALED DATA:  \n",
      ")\n",
      "[[ 0.         -0.33790435 -1.09141592 ...  1.58325794  3.53125595\n",
      "   3.30213343]\n",
      " [ 0.          2.90642897  1.41696421 ...  1.58325794  0.00595786\n",
      "  -0.18695903]\n",
      " [ 0.          0.74354009  0.99890086 ... -1.14493411 -0.49765616\n",
      "  -0.18695903]\n",
      " ...\n",
      " [ 0.         -0.33790435 -0.04625753 ... -1.14493411 -0.49765616\n",
      "  -0.18695903]\n",
      " [ 0.         -0.33790435 -0.25528921 ... -1.14493411 -0.49765616\n",
      "  -0.18695903]\n",
      " [ 0.         -0.33790435  0.16277415 ...  0.73069792 -0.49765616\n",
      "  -0.18695903]]\n"
     ]
    }
   ],
   "source": [
    "#normalize the data\n",
    "#for training feature set\n",
    "scaler = StandardScaler()\n",
    "#fit the data to scaler\n",
    "scaler.fit(xTrain)\n",
    "\n",
    "#mean\n",
    "print(scaler.mean_)\n",
    "\n",
    "print(\"SCALED DATA:  \\n)\")\n",
    "#transform the data\n",
    "xTrain_scaled=scaler.transform(xTrain)\n",
    "print(xTrain_scaled)\n"
   ]
  },
  {
   "cell_type": "code",
   "execution_count": 18,
   "metadata": {},
   "outputs": [
    {
     "name": "stdout",
     "output_type": "stream",
     "text": [
      "Eigen vectors\n",
      "[[ 0.          0.          0.         ...  1.          0.\n",
      "   0.        ]\n",
      " [-0.18234947  0.02908746  0.0179717  ...  0.          0.\n",
      "   0.        ]\n",
      " [-0.28584549  0.03727255 -0.06308918 ...  0.          0.\n",
      "   0.        ]\n",
      " ...\n",
      " [-0.10148855 -0.2359397   0.00545305 ...  0.          0.\n",
      "   0.        ]\n",
      " [-0.11766006 -0.15141477  0.11164462 ...  0.          0.\n",
      "   0.        ]\n",
      " [-0.07074398 -0.06005103  0.09542532 ...  0.          0.\n",
      "   0.        ]]\n",
      "Eigen values\n",
      "[7.42558783 5.88135302 5.23642748 3.94152915 2.98983758 2.55355037\n",
      " 2.39882615 2.00347455 1.81853143 1.71506931 1.67331969 1.58838289\n",
      " 1.40666447 1.34730335 1.2509095  1.08915114 1.0593977  1.01476981\n",
      " 0.99144004 0.92222203 0.82257444 0.79044402 0.71501507 0.64858947\n",
      " 0.63448845 0.57485473 0.56929806 0.51312533 0.5052543  0.48216988\n",
      " 0.45766034 0.43681784 0.40624283 0.39132409 0.36277488 0.34641491\n",
      " 0.3141875  0.28875362 0.27747901 0.25645584 0.24737781 0.24214483\n",
      " 0.0504339  0.06287411 0.21361325 0.20138915 0.19242568 0.18730562\n",
      " 0.07395745 0.0787266  0.17218824 0.16551762 0.153649   0.08929483\n",
      " 0.09538253 0.09806862 0.13893213 0.11071894 0.11547952 0.12154351\n",
      " 0.12978369 0.         0.         0.        ]\n"
     ]
    }
   ],
   "source": [
    "#playing with eigen value and vectors\n",
    "#eigen decomposition on covaraince matrix\n",
    "\n",
    "covariance_matrix = np.cov(xTrain_scaled.T)\n",
    "\n",
    "eig_values, eig_vectors = np.linalg.eig(covariance_matrix)\n",
    "\n",
    "print(\"Eigen vectors\")\n",
    "print(eig_vectors)\n",
    "\n",
    "print(\"Eigen values\")\n",
    "print(eig_values)\n",
    "\n",
    "\n"
   ]
  },
  {
   "cell_type": "code",
   "execution_count": 19,
   "metadata": {},
   "outputs": [],
   "source": [
    "from sklearn.decomposition import PCA #for principle component analysis"
   ]
  },
  {
   "cell_type": "code",
   "execution_count": 20,
   "metadata": {},
   "outputs": [
    {
     "name": "stdout",
     "output_type": "stream",
     "text": [
      "[[ 1.15166176 -4.94453162]\n",
      " [-3.25847534 -1.85234881]\n",
      " [-1.65129679  3.22262212]\n",
      " ...\n",
      " [ 0.20279142  2.04591206]\n",
      " [ 1.41644882  3.21893934]\n",
      " [-1.77050812 -0.379393  ]]\n"
     ]
    }
   ],
   "source": [
    "pca = PCA(n_components=2)\n",
    "p_components = pca.fit_transform(xTrain_scaled)\n",
    "print(p_components)\n",
    "p_components_data = pd.DataFrame(data = p_components#dataframe\n",
    "             , columns = ['PC_1', 'PC_2'])"
   ]
  },
  {
   "cell_type": "code",
   "execution_count": 21,
   "metadata": {},
   "outputs": [
    {
     "data": {
      "text/html": [
       "<div>\n",
       "<style scoped>\n",
       "    .dataframe tbody tr th:only-of-type {\n",
       "        vertical-align: middle;\n",
       "    }\n",
       "\n",
       "    .dataframe tbody tr th {\n",
       "        vertical-align: top;\n",
       "    }\n",
       "\n",
       "    .dataframe thead th {\n",
       "        text-align: right;\n",
       "    }\n",
       "</style>\n",
       "<table border=\"1\" class=\"dataframe\">\n",
       "  <thead>\n",
       "    <tr style=\"text-align: right;\">\n",
       "      <th></th>\n",
       "      <th>PC_1</th>\n",
       "      <th>PC_2</th>\n",
       "    </tr>\n",
       "  </thead>\n",
       "  <tbody>\n",
       "    <tr>\n",
       "      <th>71</th>\n",
       "      <td>-4.489589</td>\n",
       "      <td>-0.500978</td>\n",
       "    </tr>\n",
       "    <tr>\n",
       "      <th>754</th>\n",
       "      <td>-0.249844</td>\n",
       "      <td>-0.910330</td>\n",
       "    </tr>\n",
       "    <tr>\n",
       "      <th>1425</th>\n",
       "      <td>5.895874</td>\n",
       "      <td>-1.497102</td>\n",
       "    </tr>\n",
       "    <tr>\n",
       "      <th>977</th>\n",
       "      <td>0.604505</td>\n",
       "      <td>2.918080</td>\n",
       "    </tr>\n",
       "    <tr>\n",
       "      <th>1166</th>\n",
       "      <td>-0.755616</td>\n",
       "      <td>-1.276620</td>\n",
       "    </tr>\n",
       "    <tr>\n",
       "      <th>1331</th>\n",
       "      <td>2.823234</td>\n",
       "      <td>2.192078</td>\n",
       "    </tr>\n",
       "    <tr>\n",
       "      <th>557</th>\n",
       "      <td>2.611642</td>\n",
       "      <td>1.031551</td>\n",
       "    </tr>\n",
       "    <tr>\n",
       "      <th>900</th>\n",
       "      <td>-0.188954</td>\n",
       "      <td>3.569222</td>\n",
       "    </tr>\n",
       "    <tr>\n",
       "      <th>407</th>\n",
       "      <td>-2.535137</td>\n",
       "      <td>1.194137</td>\n",
       "    </tr>\n",
       "    <tr>\n",
       "      <th>75</th>\n",
       "      <td>1.473123</td>\n",
       "      <td>1.331362</td>\n",
       "    </tr>\n",
       "    <tr>\n",
       "      <th>1292</th>\n",
       "      <td>-1.408217</td>\n",
       "      <td>0.161722</td>\n",
       "    </tr>\n",
       "    <tr>\n",
       "      <th>235</th>\n",
       "      <td>1.692368</td>\n",
       "      <td>1.418207</td>\n",
       "    </tr>\n",
       "    <tr>\n",
       "      <th>778</th>\n",
       "      <td>-0.847032</td>\n",
       "      <td>1.286485</td>\n",
       "    </tr>\n",
       "    <tr>\n",
       "      <th>1359</th>\n",
       "      <td>1.436789</td>\n",
       "      <td>0.623329</td>\n",
       "    </tr>\n",
       "    <tr>\n",
       "      <th>994</th>\n",
       "      <td>-2.455997</td>\n",
       "      <td>-2.994945</td>\n",
       "    </tr>\n",
       "    <tr>\n",
       "      <th>990</th>\n",
       "      <td>5.986826</td>\n",
       "      <td>-0.567470</td>\n",
       "    </tr>\n",
       "    <tr>\n",
       "      <th>672</th>\n",
       "      <td>2.210445</td>\n",
       "      <td>-2.143015</td>\n",
       "    </tr>\n",
       "    <tr>\n",
       "      <th>310</th>\n",
       "      <td>-2.664932</td>\n",
       "      <td>-1.127264</td>\n",
       "    </tr>\n",
       "    <tr>\n",
       "      <th>821</th>\n",
       "      <td>-2.698859</td>\n",
       "      <td>-1.701744</td>\n",
       "    </tr>\n",
       "    <tr>\n",
       "      <th>1003</th>\n",
       "      <td>1.427971</td>\n",
       "      <td>-2.864341</td>\n",
       "    </tr>\n",
       "  </tbody>\n",
       "</table>\n",
       "</div>"
      ],
      "text/plain": [
       "          PC_1      PC_2\n",
       "71   -4.489589 -0.500978\n",
       "754  -0.249844 -0.910330\n",
       "1425  5.895874 -1.497102\n",
       "977   0.604505  2.918080\n",
       "1166 -0.755616 -1.276620\n",
       "1331  2.823234  2.192078\n",
       "557   2.611642  1.031551\n",
       "900  -0.188954  3.569222\n",
       "407  -2.535137  1.194137\n",
       "75    1.473123  1.331362\n",
       "1292 -1.408217  0.161722\n",
       "235   1.692368  1.418207\n",
       "778  -0.847032  1.286485\n",
       "1359  1.436789  0.623329\n",
       "994  -2.455997 -2.994945\n",
       "990   5.986826 -0.567470\n",
       "672   2.210445 -2.143015\n",
       "310  -2.664932 -1.127264\n",
       "821  -2.698859 -1.701744\n",
       "1003  1.427971 -2.864341"
      ]
     },
     "execution_count": 21,
     "metadata": {},
     "output_type": "execute_result"
    }
   ],
   "source": [
    "p_components_data.sample(20)"
   ]
  },
  {
   "cell_type": "code",
   "execution_count": 22,
   "metadata": {},
   "outputs": [
    {
     "data": {
      "text/html": [
       "<div>\n",
       "<style scoped>\n",
       "    .dataframe tbody tr th:only-of-type {\n",
       "        vertical-align: middle;\n",
       "    }\n",
       "\n",
       "    .dataframe tbody tr th {\n",
       "        vertical-align: top;\n",
       "    }\n",
       "\n",
       "    .dataframe thead th {\n",
       "        text-align: right;\n",
       "    }\n",
       "</style>\n",
       "<table border=\"1\" class=\"dataframe\">\n",
       "  <thead>\n",
       "    <tr style=\"text-align: right;\">\n",
       "      <th></th>\n",
       "      <th>PC_1</th>\n",
       "      <th>PC_2</th>\n",
       "    </tr>\n",
       "  </thead>\n",
       "  <tbody>\n",
       "    <tr>\n",
       "      <th>1296</th>\n",
       "      <td>0.715809</td>\n",
       "      <td>-1.052092</td>\n",
       "    </tr>\n",
       "    <tr>\n",
       "      <th>601</th>\n",
       "      <td>-2.043304</td>\n",
       "      <td>1.426693</td>\n",
       "    </tr>\n",
       "    <tr>\n",
       "      <th>640</th>\n",
       "      <td>-3.761522</td>\n",
       "      <td>-0.494799</td>\n",
       "    </tr>\n",
       "    <tr>\n",
       "      <th>43</th>\n",
       "      <td>-0.984953</td>\n",
       "      <td>-1.264434</td>\n",
       "    </tr>\n",
       "    <tr>\n",
       "      <th>1333</th>\n",
       "      <td>0.213698</td>\n",
       "      <td>2.926911</td>\n",
       "    </tr>\n",
       "    <tr>\n",
       "      <th>1180</th>\n",
       "      <td>-2.017681</td>\n",
       "      <td>1.118801</td>\n",
       "    </tr>\n",
       "    <tr>\n",
       "      <th>8</th>\n",
       "      <td>1.317869</td>\n",
       "      <td>5.332863</td>\n",
       "    </tr>\n",
       "    <tr>\n",
       "      <th>1012</th>\n",
       "      <td>1.812084</td>\n",
       "      <td>-3.400730</td>\n",
       "    </tr>\n",
       "    <tr>\n",
       "      <th>243</th>\n",
       "      <td>3.958229</td>\n",
       "      <td>0.388370</td>\n",
       "    </tr>\n",
       "    <tr>\n",
       "      <th>604</th>\n",
       "      <td>-3.398997</td>\n",
       "      <td>1.815938</td>\n",
       "    </tr>\n",
       "  </tbody>\n",
       "</table>\n",
       "</div>"
      ],
      "text/plain": [
       "          PC_1      PC_2\n",
       "1296  0.715809 -1.052092\n",
       "601  -2.043304  1.426693\n",
       "640  -3.761522 -0.494799\n",
       "43   -0.984953 -1.264434\n",
       "1333  0.213698  2.926911\n",
       "1180 -2.017681  1.118801\n",
       "8     1.317869  5.332863\n",
       "1012  1.812084 -3.400730\n",
       "243   3.958229  0.388370\n",
       "604  -3.398997  1.815938"
      ]
     },
     "execution_count": 22,
     "metadata": {},
     "output_type": "execute_result"
    }
   ],
   "source": [
    "xTrain_reduced=p_components_data\n",
    "xTrain_reduced.sample(10)"
   ]
  },
  {
   "cell_type": "code",
   "execution_count": 23,
   "metadata": {},
   "outputs": [
    {
     "data": {
      "text/plain": [
       "(1437, 2)"
      ]
     },
     "execution_count": 23,
     "metadata": {},
     "output_type": "execute_result"
    }
   ],
   "source": [
    "xTrain_reduced.shape #2 suggests we have 2 dimensions previously we had 64\n",
    "\n",
    "#dimentioniality reduction complete"
   ]
  },
  {
   "cell_type": "code",
   "execution_count": 24,
   "metadata": {},
   "outputs": [
    {
     "data": {
      "text/plain": [
       "array([7.42558783, 5.881353  ])"
      ]
     },
     "execution_count": 24,
     "metadata": {},
     "output_type": "execute_result"
    }
   ],
   "source": [
    "pca.explained_variance_\n",
    "#expained variance for pc1 and pc2"
   ]
  },
  {
   "cell_type": "code",
   "execution_count": 25,
   "metadata": {},
   "outputs": [
    {
     "data": {
      "text/plain": [
       "array([0.12164624, 0.09634853])"
      ]
     },
     "execution_count": 25,
     "metadata": {},
     "output_type": "execute_result"
    }
   ],
   "source": [
    "#percentage of variance captured by two components\n",
    "pca.explained_variance_ratio_ \n"
   ]
  },
  {
   "cell_type": "code",
   "execution_count": 26,
   "metadata": {},
   "outputs": [
    {
     "name": "stdout",
     "output_type": "stream",
     "text": [
      "The percentage of variance scaptured by these two components in total: \n",
      "0.21799476395689757\n",
      "This is not enough variance we should consider more components\n"
     ]
    }
   ],
   "source": [
    "print(\"The percentage of variance scaptured by these two components in total: \")\n",
    "print(np.sum(pca.explained_variance_ratio_ ))\n",
    "print(\"This is not enough variance we should consider more components\")"
   ]
  },
  {
   "cell_type": "code",
   "execution_count": 27,
   "metadata": {},
   "outputs": [
    {
     "name": "stdout",
     "output_type": "stream",
     "text": [
      "          PC_1      PC_2\n",
      "955  -0.915534  3.457474\n",
      "1055 -4.501095 -1.156298\n",
      "1119 -2.918049  1.946090\n",
      "1012  1.812084 -3.400730\n",
      "101  -4.329341 -1.162235\n",
      "653   5.008824  4.152512\n",
      "140  -1.200790 -1.434143\n",
      "619  -3.872376 -0.231281\n",
      "1244 -1.347236 -1.652954\n",
      "417  -3.347476 -1.143123\n",
      "[0.12164624 0.09634853 0.08578333 0.06457015 0.04897858 0.04183129\n",
      " 0.03929641 0.03281814 0.02977158 0.0280314 ]\n"
     ]
    }
   ],
   "source": [
    "#what if we consider 10 dimentions\n",
    "pca = PCA(n_components=10)\n",
    "p_components_10 = pca.fit_transform(xTrain_scaled)\n",
    "p_components_data_10 = pd.DataFrame(data = p_components\n",
    "             , columns = ['PC_1', 'PC_2'])\n",
    "print(p_components_data_10.sample(10))\n",
    "#percentage of variance captured by two components\n",
    "print(pca.explained_variance_ratio_) \n"
   ]
  },
  {
   "cell_type": "code",
   "execution_count": 28,
   "metadata": {},
   "outputs": [
    {
     "name": "stdout",
     "output_type": "stream",
     "text": [
      "The percentage of variance scaptured by 10 components in total: \n",
      "0.5890756421993195\n"
     ]
    }
   ],
   "source": [
    "print(\"The percentage of variance scaptured by 10 components in total: \")\n",
    "print(np.sum(pca.explained_variance_ratio_ ))"
   ]
  },
  {
   "cell_type": "code",
   "execution_count": 29,
   "metadata": {},
   "outputs": [
    {
     "name": "stdout",
     "output_type": "stream",
     "text": [
      "We can observe that the explained varaince increases to 60% after we increase dimensions from 2 to 10\n"
     ]
    }
   ],
   "source": [
    "print(\"We can observe that the explained varaince increases to 60% after we increase dimensions from 2 to 10\")\n",
    "#maybe it would be better to take n_components=15 so that 80% of the zist is captured by pc's"
   ]
  },
  {
   "cell_type": "code",
   "execution_count": 30,
   "metadata": {},
   "outputs": [
    {
     "data": {
      "text/html": [
       "<div>\n",
       "<style scoped>\n",
       "    .dataframe tbody tr th:only-of-type {\n",
       "        vertical-align: middle;\n",
       "    }\n",
       "\n",
       "    .dataframe tbody tr th {\n",
       "        vertical-align: top;\n",
       "    }\n",
       "\n",
       "    .dataframe thead th {\n",
       "        text-align: right;\n",
       "    }\n",
       "</style>\n",
       "<table border=\"1\" class=\"dataframe\">\n",
       "  <thead>\n",
       "    <tr style=\"text-align: right;\">\n",
       "      <th></th>\n",
       "      <th>target</th>\n",
       "    </tr>\n",
       "  </thead>\n",
       "  <tbody>\n",
       "    <tr>\n",
       "      <th>13</th>\n",
       "      <td>5</td>\n",
       "    </tr>\n",
       "    <tr>\n",
       "      <th>1246</th>\n",
       "      <td>3</td>\n",
       "    </tr>\n",
       "    <tr>\n",
       "      <th>755</th>\n",
       "      <td>5</td>\n",
       "    </tr>\n",
       "    <tr>\n",
       "      <th>545</th>\n",
       "      <td>1</td>\n",
       "    </tr>\n",
       "    <tr>\n",
       "      <th>57</th>\n",
       "      <td>5</td>\n",
       "    </tr>\n",
       "    <tr>\n",
       "      <th>289</th>\n",
       "      <td>0</td>\n",
       "    </tr>\n",
       "    <tr>\n",
       "      <th>901</th>\n",
       "      <td>1</td>\n",
       "    </tr>\n",
       "    <tr>\n",
       "      <th>456</th>\n",
       "      <td>0</td>\n",
       "    </tr>\n",
       "    <tr>\n",
       "      <th>882</th>\n",
       "      <td>4</td>\n",
       "    </tr>\n",
       "    <tr>\n",
       "      <th>100</th>\n",
       "      <td>6</td>\n",
       "    </tr>\n",
       "  </tbody>\n",
       "</table>\n",
       "</div>"
      ],
      "text/plain": [
       "      target\n",
       "13         5\n",
       "1246       3\n",
       "755        5\n",
       "545        1\n",
       "57         5\n",
       "289        0\n",
       "901        1\n",
       "456        0\n",
       "882        4\n",
       "100        6"
      ]
     },
     "execution_count": 30,
     "metadata": {},
     "output_type": "execute_result"
    }
   ],
   "source": [
    "#p_components_data_new=pd.concat([p_, df[['target']]], axis = 1)\n",
    "target_data = pd.DataFrame(data = yTrain,columns=['target'])\n",
    "target_data.sample(10)"
   ]
  },
  {
   "cell_type": "code",
   "execution_count": 31,
   "metadata": {},
   "outputs": [
    {
     "data": {
      "text/html": [
       "<div>\n",
       "<style scoped>\n",
       "    .dataframe tbody tr th:only-of-type {\n",
       "        vertical-align: middle;\n",
       "    }\n",
       "\n",
       "    .dataframe tbody tr th {\n",
       "        vertical-align: top;\n",
       "    }\n",
       "\n",
       "    .dataframe thead th {\n",
       "        text-align: right;\n",
       "    }\n",
       "</style>\n",
       "<table border=\"1\" class=\"dataframe\">\n",
       "  <thead>\n",
       "    <tr style=\"text-align: right;\">\n",
       "      <th></th>\n",
       "      <th>PC_1</th>\n",
       "      <th>PC_2</th>\n",
       "      <th>target</th>\n",
       "    </tr>\n",
       "  </thead>\n",
       "  <tbody>\n",
       "    <tr>\n",
       "      <th>660</th>\n",
       "      <td>-1.594703</td>\n",
       "      <td>1.502597</td>\n",
       "      <td>3</td>\n",
       "    </tr>\n",
       "    <tr>\n",
       "      <th>804</th>\n",
       "      <td>1.096603</td>\n",
       "      <td>4.229988</td>\n",
       "      <td>9</td>\n",
       "    </tr>\n",
       "    <tr>\n",
       "      <th>654</th>\n",
       "      <td>0.784145</td>\n",
       "      <td>0.841697</td>\n",
       "      <td>8</td>\n",
       "    </tr>\n",
       "    <tr>\n",
       "      <th>456</th>\n",
       "      <td>1.669114</td>\n",
       "      <td>-2.178548</td>\n",
       "      <td>0</td>\n",
       "    </tr>\n",
       "    <tr>\n",
       "      <th>275</th>\n",
       "      <td>0.138814</td>\n",
       "      <td>1.050872</td>\n",
       "      <td>1</td>\n",
       "    </tr>\n",
       "    <tr>\n",
       "      <th>1015</th>\n",
       "      <td>0.188454</td>\n",
       "      <td>-0.922311</td>\n",
       "      <td>8</td>\n",
       "    </tr>\n",
       "    <tr>\n",
       "      <th>434</th>\n",
       "      <td>-2.701204</td>\n",
       "      <td>0.210052</td>\n",
       "      <td>3</td>\n",
       "    </tr>\n",
       "    <tr>\n",
       "      <th>400</th>\n",
       "      <td>3.776889</td>\n",
       "      <td>0.060155</td>\n",
       "      <td>4</td>\n",
       "    </tr>\n",
       "    <tr>\n",
       "      <th>921</th>\n",
       "      <td>1.883066</td>\n",
       "      <td>1.050126</td>\n",
       "      <td>5</td>\n",
       "    </tr>\n",
       "    <tr>\n",
       "      <th>215</th>\n",
       "      <td>-0.677542</td>\n",
       "      <td>0.019200</td>\n",
       "      <td>9</td>\n",
       "    </tr>\n",
       "  </tbody>\n",
       "</table>\n",
       "</div>"
      ],
      "text/plain": [
       "          PC_1      PC_2  target\n",
       "660  -1.594703  1.502597       3\n",
       "804   1.096603  4.229988       9\n",
       "654   0.784145  0.841697       8\n",
       "456   1.669114 -2.178548       0\n",
       "275   0.138814  1.050872       1\n",
       "1015  0.188454 -0.922311       8\n",
       "434  -2.701204  0.210052       3\n",
       "400   3.776889  0.060155       4\n",
       "921   1.883066  1.050126       5\n",
       "215  -0.677542  0.019200       9"
      ]
     },
     "execution_count": 31,
     "metadata": {},
     "output_type": "execute_result"
    }
   ],
   "source": [
    "reduced_components_dataset=pd.concat([p_components_data, target_data],axis=1)\n",
    "reduced_components_dataset.sample(10)\n",
    "#components_data.plot.bar()"
   ]
  },
  {
   "cell_type": "code",
   "execution_count": 32,
   "metadata": {},
   "outputs": [],
   "source": [
    "import matplotlib.pyplot as plt\n",
    "from matplotlib.pyplot import *\n",
    "\n",
    "\n",
    "def get_cmap(n):\n",
    "    colorz = plt.get_cmap('Set1')\n",
    "    return [ colorz(float(i)/n) for i in range(n)]\n",
    "\n",
    "colorz = get_cmap(10)\n",
    "colors = [colorz[yy] for yy in yTrain]"
   ]
  },
  {
   "cell_type": "code",
   "execution_count": 33,
   "metadata": {},
   "outputs": [
    {
     "data": {
      "image/png": "[encoded data removed]",
      "text/plain": [
       "<Figure size 432x288 with 1 Axes>"
      ]
     },
     "metadata": {
      "needs_background": "light"
     },
     "output_type": "display_data"
    }
   ],
   "source": [
    "scatter(p_components [:,0], p_components [:,1], #p_components is the array that makes the dataframe xTrain_reduced\n",
    "        color=colors,s=7, marker='o')\n",
    "xlabel(\"PC_1\")\n",
    "ylabel(\"PC_2\")\n",
    "show()"
   ]
  },
  {
   "cell_type": "code",
   "execution_count": 34,
   "metadata": {},
   "outputs": [],
   "source": [
    "#K MEAN CLUSTERING:\n",
    "#DATA ALREADY SCALED \n",
    "#DATA ALREADY TRAIN TEST SPLITTED\n",
    "from sklearn.cluster import KMeans\n",
    "from sklearn.preprocessing import scale#for scaling the dataset\n",
    "from sklearn import metrics"
   ]
  },
  {
   "cell_type": "code",
   "execution_count": 35,
   "metadata": {},
   "outputs": [
    {
     "name": "stdout",
     "output_type": "stream",
     "text": [
      "[[ 0.         -0.33501649 -0.04308102 ... -1.14664746 -0.5056698\n",
      "  -0.19600752]\n",
      " [ 0.         -0.33501649 -1.09493684 ...  0.54856067 -0.5056698\n",
      "  -0.19600752]\n",
      " [ 0.         -0.33501649 -1.09493684 ...  1.56568555  1.6951369\n",
      "  -0.19600752]\n",
      " ...\n",
      " [ 0.         -0.33501649 -0.88456568 ... -0.12952258 -0.5056698\n",
      "  -0.19600752]\n",
      " [ 0.         -0.33501649 -0.67419451 ...  0.8876023  -0.5056698\n",
      "  -0.19600752]\n",
      " [ 0.         -0.33501649  1.00877481 ...  0.8876023  -0.26113572\n",
      "  -0.19600752]]\n",
      "(1797, 64)\n"
     ]
    }
   ],
   "source": [
    "scaled_data = scale(digits.data)#scaled data Here we scale first before dividing\n",
    "print(scaled_data)\n",
    "print(scaled_data.shape)\n",
    "#scaling the target is not necessary"
   ]
  },
  {
   "cell_type": "code",
   "execution_count": 36,
   "metadata": {},
   "outputs": [
    {
     "data": {
      "text/plain": [
       "<Figure size 432x288 with 0 Axes>"
      ]
     },
     "metadata": {},
     "output_type": "display_data"
    },
    {
     "data": {
      "image/png": "[encoded data removed]",
      "text/plain": [
       "<Figure size 288x288 with 1 Axes>"
      ]
     },
     "metadata": {
      "needs_background": "light"
     },
     "output_type": "display_data"
    },
    {
     "name": "stdout",
     "output_type": "stream",
     "text": [
      "The label is:  \n",
      "0\n"
     ]
    },
    {
     "data": {
      "text/plain": [
       "<Figure size 432x288 with 0 Axes>"
      ]
     },
     "metadata": {},
     "output_type": "display_data"
    },
    {
     "data": {
      "image/png": "[encoded data removed]",
      "text/plain": [
       "<Figure size 288x288 with 1 Axes>"
      ]
     },
     "metadata": {
      "needs_background": "light"
     },
     "output_type": "display_data"
    },
    {
     "name": "stdout",
     "output_type": "stream",
     "text": [
      "The label is:  \n",
      "1\n"
     ]
    },
    {
     "data": {
      "text/plain": [
       "<Figure size 432x288 with 0 Axes>"
      ]
     },
     "metadata": {},
     "output_type": "display_data"
    },
    {
     "data": {
      "image/png": "[encoded data removed]",
      "text/plain": [
       "<Figure size 288x288 with 1 Axes>"
      ]
     },
     "metadata": {
      "needs_background": "light"
     },
     "output_type": "display_data"
    },
    {
     "name": "stdout",
     "output_type": "stream",
     "text": [
      "The label is:  \n",
      "2\n"
     ]
    },
    {
     "data": {
      "text/plain": [
       "<Figure size 432x288 with 0 Axes>"
      ]
     },
     "metadata": {},
     "output_type": "display_data"
    },
    {
     "data": {
      "image/png": "[encoded data removed]",
      "text/plain": [
       "<Figure size 288x288 with 1 Axes>"
      ]
     },
     "metadata": {
      "needs_background": "light"
     },
     "output_type": "display_data"
    },
    {
     "name": "stdout",
     "output_type": "stream",
     "text": [
      "The label is:  \n",
      "3\n"
     ]
    },
    {
     "data": {
      "text/plain": [
       "<Figure size 432x288 with 0 Axes>"
      ]
     },
     "metadata": {},
     "output_type": "display_data"
    },
    {
     "data": {
      "image/png": "[encoded data removed]",
      "text/plain": [
       "<Figure size 288x288 with 1 Axes>"
      ]
     },
     "metadata": {
      "needs_background": "light"
     },
     "output_type": "display_data"
    },
    {
     "name": "stdout",
     "output_type": "stream",
     "text": [
      "The label is:  \n",
      "4\n"
     ]
    },
    {
     "data": {
      "text/plain": [
       "<Figure size 432x288 with 0 Axes>"
      ]
     },
     "metadata": {},
     "output_type": "display_data"
    },
    {
     "data": {
      "image/png": "[encoded data removed]",
      "text/plain": [
       "<Figure size 288x288 with 1 Axes>"
      ]
     },
     "metadata": {
      "needs_background": "light"
     },
     "output_type": "display_data"
    },
    {
     "name": "stdout",
     "output_type": "stream",
     "text": [
      "The label is:  \n",
      "5\n"
     ]
    },
    {
     "data": {
      "text/plain": [
       "<Figure size 432x288 with 0 Axes>"
      ]
     },
     "metadata": {},
     "output_type": "display_data"
    },
    {
     "data": {
      "image/png": "[encoded data removed]",
      "text/plain": [
       "<Figure size 288x288 with 1 Axes>"
      ]
     },
     "metadata": {
      "needs_background": "light"
     },
     "output_type": "display_data"
    },
    {
     "name": "stdout",
     "output_type": "stream",
     "text": [
      "The label is:  \n",
      "6\n"
     ]
    },
    {
     "data": {
      "text/plain": [
       "<Figure size 432x288 with 0 Axes>"
      ]
     },
     "metadata": {},
     "output_type": "display_data"
    },
    {
     "data": {
      "image/png": "[encoded data removed]",
      "text/plain": [
       "<Figure size 288x288 with 1 Axes>"
      ]
     },
     "metadata": {
      "needs_background": "light"
     },
     "output_type": "display_data"
    },
    {
     "name": "stdout",
     "output_type": "stream",
     "text": [
      "The label is:  \n",
      "7\n"
     ]
    },
    {
     "data": {
      "text/plain": [
       "<Figure size 432x288 with 0 Axes>"
      ]
     },
     "metadata": {},
     "output_type": "display_data"
    },
    {
     "data": {
      "image/png": "[encoded data removed]",
      "text/plain": [
       "<Figure size 288x288 with 1 Axes>"
      ]
     },
     "metadata": {
      "needs_background": "light"
     },
     "output_type": "display_data"
    },
    {
     "name": "stdout",
     "output_type": "stream",
     "text": [
      "The label is:  \n",
      "8\n"
     ]
    },
    {
     "data": {
      "text/plain": [
       "<Figure size 432x288 with 0 Axes>"
      ]
     },
     "metadata": {},
     "output_type": "display_data"
    },
    {
     "data": {
      "image/png": "[encoded data removed]",
      "text/plain": [
       "<Figure size 288x288 with 1 Axes>"
      ]
     },
     "metadata": {
      "needs_background": "light"
     },
     "output_type": "display_data"
    },
    {
     "name": "stdout",
     "output_type": "stream",
     "text": [
      "The label is:  \n",
      "9\n"
     ]
    }
   ],
   "source": [
    "#showing the images with their labels using matplotlib\n",
    "for i in range (0,10):\n",
    "    plt.gray() \n",
    "    plt.matshow(digits.images[i]) \n",
    "    plt.show() \n",
    "    print (\"The label is:  \")\n",
    "    print(digits.target[i])"
   ]
  },
  {
   "cell_type": "code",
   "execution_count": 37,
   "metadata": {},
   "outputs": [],
   "source": [
    "#spliting the data into test and train set\n",
    "from sklearn.model_selection import train_test_split\n",
    "xTrain1, xTest1, yTrain1, yTest1 = train_test_split(scaled_data, digits.target, test_size = 0.2, random_state = 0)"
   ]
  },
  {
   "cell_type": "code",
   "execution_count": 38,
   "metadata": {},
   "outputs": [
    {
     "name": "stdout",
     "output_type": "stream",
     "text": [
      "(1437, 64)\n",
      "(1437,)\n"
     ]
    }
   ],
   "source": [
    "print(xTrain1.shape)#training feature\n",
    "print(yTrain1.shape)#training label\n"
   ]
  },
  {
   "cell_type": "code",
   "execution_count": 39,
   "metadata": {},
   "outputs": [
    {
     "name": "stdout",
     "output_type": "stream",
     "text": [
      "the labels are:  \n",
      "\n",
      "[6 2 2 ... 5 0 5]\n",
      "the centroids are   \n",
      "\n",
      "[[ 0.00000000e+00 -3.03692362e-01 -4.66213930e-01 -5.59275113e-01\n",
      "   3.23101128e-01  1.32334705e+00  1.21030830e+00  3.38563101e-02\n",
      "  -5.90775571e-02 -4.47967855e-01 -2.91731172e-01 -2.79167580e-01\n",
      "   3.06988392e-02  9.25847841e-01  1.30904862e+00 -3.43273887e-02\n",
      "  -4.46250733e-02 -3.19226064e-01 -4.52371870e-01 -4.49298567e-01\n",
      "  -6.00368787e-02  9.00642758e-01  6.78579002e-01 -7.53474777e-02\n",
      "  -3.33797263e-02 -2.52263788e-01 -3.67199651e-01 -1.72504527e-01\n",
      "   3.99855388e-01  9.29988433e-01  4.14833293e-01 -4.72323823e-02\n",
      "   0.00000000e+00 -3.84966714e-01 -1.06423012e-01  2.86841101e-01\n",
      "   5.62178074e-01  5.32508597e-01  1.15626146e-01  0.00000000e+00\n",
      "  -6.13436689e-02 -3.57836327e-01 -5.35605085e-01  1.10153365e-01\n",
      "   5.96247204e-01 -1.44316998e-01 -5.77810020e-01 -8.87416172e-02\n",
      "  -3.54332626e-02 -3.84046112e-01 -1.05343518e+00 -5.75248463e-02\n",
      "  -1.24621901e-01 -6.61988019e-01 -6.30352587e-01 -2.09785127e-01\n",
      "  -2.35964589e-02 -2.32167853e-01 -4.02209984e-01 -4.71164790e-01\n",
      "  -1.21687130e+00 -5.57177357e-01 -3.57004198e-01 -1.96007519e-01]\n",
      " [ 0.00000000e+00  8.30598961e-01  1.12447895e+00  6.00301599e-01\n",
      "  -1.01443827e+00 -8.50433939e-01 -4.09723921e-01 -1.25022923e-01\n",
      "   2.44243500e-01  1.03245655e+00  6.17398588e-01  1.32715015e-01\n",
      "   2.28402893e-01 -8.37626000e-01 -5.07022461e-01 -1.30433381e-01\n",
      "   1.84492803e-01  5.88924325e-01 -3.21969478e-01 -1.42815601e-01\n",
      "   7.61589152e-01 -6.98523863e-01 -5.22504368e-01 -1.14221844e-01\n",
      "  -3.33797263e-02 -4.94455065e-01 -9.98999351e-01 -2.95114149e-01\n",
      "   3.47488237e-01 -8.27573261e-01 -6.01762007e-01 -4.72323823e-02\n",
      "   0.00000000e+00 -6.43631719e-01 -9.41484401e-01  1.26463071e-01\n",
      "   2.98318325e-02 -1.21846033e+00 -8.20674646e-01  0.00000000e+00\n",
      "  -6.13436689e-02 -4.47419242e-01 -3.77468227e-01  5.96819594e-01\n",
      "  -5.83549953e-03 -1.03507351e+00 -6.08554752e-01 -1.90031247e-02\n",
      "  -3.54332626e-02  2.92024892e-01  6.12683934e-01  7.74373274e-01\n",
      "   4.45672971e-01  3.55174083e-01  8.28562812e-01  1.03134391e+00\n",
      "  -2.35964589e-02  8.25065345e-01  1.02619999e+00  5.10438601e-01\n",
      "   3.48589801e-01  9.92947373e-01  1.72308365e+00  1.42108016e+00]\n",
      " [ 0.00000000e+00  5.59085956e-02  5.10258896e-01  3.59680164e-01\n",
      "   2.60974257e-01  1.38540169e-01 -2.42024383e-01 -1.25022923e-01\n",
      "   5.26327327e-03  4.22992562e-01  5.96472200e-01 -7.49266508e-01\n",
      "  -5.01867795e-02  4.36156449e-01 -1.65925230e-01 -1.30433381e-01\n",
      "  -4.46250733e-02  1.91113802e-01 -1.34250906e-01 -5.02319299e-01\n",
      "   2.53594563e-01  3.73142063e-01 -1.49905512e-01 -1.14221844e-01\n",
      "  -3.33797263e-02 -2.96697346e-01 -3.46150151e-01  3.34881803e-01\n",
      "   5.76488944e-01  3.39636616e-01 -2.00509550e-01 -4.72323823e-02\n",
      "   0.00000000e+00 -5.79183199e-01 -8.06197182e-01 -5.21128093e-01\n",
      "  -2.45992778e-01  5.09854954e-01  2.05602100e-01  0.00000000e+00\n",
      "  -6.13436689e-02 -4.17431202e-01 -7.28762042e-01 -9.37521426e-01\n",
      "  -8.55584349e-01  5.90714647e-01  6.97371506e-01 -4.92935810e-02\n",
      "  -3.54332626e-02  1.27610376e-01  1.07780175e-01 -7.60807752e-01\n",
      "  -6.18779452e-01  7.07986286e-01  4.47159103e-01 -1.48201549e-01\n",
      "  -2.35964589e-02 -7.09519312e-03  4.57368947e-01  4.48029734e-01\n",
      "   5.09899280e-01  4.56094773e-01 -5.51342885e-02 -1.56898510e-01]\n",
      " [ 0.00000000e+00 -3.05808296e-01 -2.17229333e-01  2.80307912e-01\n",
      "  -1.57691080e-01 -4.99257849e-01 -3.99764799e-01 -1.25022923e-01\n",
      "  -5.90775571e-02 -3.29700155e-01  4.15771183e-01  4.11545418e-01\n",
      "   2.64296061e-01  5.08290680e-01 -2.65630451e-01 -1.30433381e-01\n",
      "  -4.46250733e-02  3.46684013e-01  7.73654769e-01 -2.69313825e-01\n",
      "  -7.93530553e-01  7.12150744e-01  4.97722682e-01 -1.14221844e-01\n",
      "  -3.33797263e-02  9.13862931e-01  5.84355761e-01 -1.14632810e+00\n",
      "  -1.57422246e+00  2.87337508e-01  1.12312586e+00 -4.72323823e-02\n",
      "   0.00000000e+00  1.01970417e+00  6.15074007e-01 -1.30073654e+00\n",
      "  -1.72996581e+00  2.44333056e-02  1.19797643e+00  0.00000000e+00\n",
      "  -6.13436689e-02  6.21718827e-01  9.84742726e-01 -8.56099611e-01\n",
      "  -9.87918336e-01  5.30699656e-01  5.66076782e-01 -8.87416172e-02\n",
      "  -3.54332626e-02  2.89054994e-02  9.80480648e-01  1.08454493e-01\n",
      "   2.02585063e-01  7.50692398e-01 -2.45736475e-01 -2.09785127e-01\n",
      "  -2.35964589e-02 -2.91991175e-01 -2.79352724e-01  3.29432204e-01\n",
      "   3.07218277e-01 -2.22702894e-01 -4.36034270e-01 -1.96007519e-01]\n",
      " [ 0.00000000e+00  1.32414784e+00  1.24719546e+00  4.22052175e-01\n",
      "   5.37609900e-01  1.17837100e+00  9.30830773e-01 -3.31912482e-02\n",
      "   4.20294621e-02  1.07791063e+00  8.76582288e-01  1.48881682e-01\n",
      "  -1.60011048e-01  8.43416276e-04  2.18156288e-01 -9.59136774e-02\n",
      "  -4.46250733e-02  1.12101331e+00  6.17993035e-01 -2.12179106e-01\n",
      "  -6.11293394e-01 -1.03094118e+00 -5.34193744e-01 -1.14221844e-01\n",
      "  -3.33797263e-02  8.67967633e-01  6.82198354e-01  5.51799442e-01\n",
      "  -3.52042584e-01 -9.74787925e-01 -5.69459775e-01 -4.72323823e-02\n",
      "   0.00000000e+00 -1.82414223e-01  4.43069233e-03  2.11949664e-01\n",
      "   2.46138249e-02 -7.54765987e-01 -7.09581887e-01  0.00000000e+00\n",
      "  -6.13436689e-02 -3.93905476e-01 -7.45386240e-01 -1.62620053e-01\n",
      "   4.98299701e-01 -4.51328586e-01 -6.97089584e-01 -8.87416172e-02\n",
      "  -3.54332626e-02  1.25626490e-01 -2.75490991e-01  1.13692864e-01\n",
      "   4.67683170e-01 -7.78147164e-01 -7.03213635e-01 -2.09785127e-01\n",
      "  -2.35964589e-02  1.23036993e+00  1.32255897e+00  4.58719912e-01\n",
      "  -1.02324288e+00 -1.04009152e+00 -5.01012011e-01 -1.96007519e-01]\n",
      " [ 0.00000000e+00 -2.56258687e-01 -2.61407395e-01 -3.55404095e-02\n",
      "   2.24638463e-01 -9.72253640e-02 -3.18736046e-01 -1.25022923e-01\n",
      "  -5.90775571e-02 -3.70220343e-01 -4.18612670e-01  3.03151842e-01\n",
      "   6.27010503e-01  2.38957899e-01 -1.98575391e-01 -1.30433381e-01\n",
      "  -4.46250733e-02 -4.33847609e-01 -4.13548246e-01  6.84259097e-01\n",
      "   9.00147754e-01  1.99443712e-01 -3.06422817e-01 -1.04639367e-01\n",
      "   9.26357530e-02 -4.17785396e-01 -3.17465734e-01  7.27640459e-01\n",
      "   6.93644298e-01 -3.31537853e-01 -4.51043591e-01 -4.72323823e-02\n",
      "   0.00000000e+00 -3.88589473e-01  1.20947665e-02  8.07875028e-01\n",
      "   5.50522878e-01 -8.63440993e-01 -7.02690571e-01  0.00000000e+00\n",
      "  -6.13436689e-02 -1.47901898e-01  2.96483859e-01  7.24705072e-01\n",
      "   6.84197458e-01 -6.42942144e-01 -7.35194820e-01 -8.87416172e-02\n",
      "  -3.54332626e-02 -6.41992667e-02  9.63089356e-02  4.69307780e-01\n",
      "   4.14520481e-01 -4.95130438e-01 -6.18178228e-01 -1.96976778e-01\n",
      "  -2.35964589e-02 -2.45100713e-01 -2.18837164e-01 -2.01934298e-01\n",
      "  -7.37440829e-02 -3.11152022e-01 -3.08398613e-01 -1.91488621e-01]\n",
      " [ 0.00000000e+00 -3.35016487e-01 -8.51597063e-01 -1.05417538e-01\n",
      "  -5.89610287e-01 -7.65087238e-01 -4.07479402e-01 -1.25022923e-01\n",
      "  -5.90775571e-02 -6.00653852e-01 -5.62087226e-01  6.67662801e-01\n",
      "  -9.09056853e-01 -1.22407115e+00 -5.04584185e-01 -1.30433381e-01\n",
      "  -4.46250733e-02 -5.08481242e-01  4.86619903e-01  3.92324181e-01\n",
      "  -1.00822751e+00 -1.23950573e+00 -5.48805463e-01 -1.14221844e-01\n",
      "  -3.33797263e-02 -3.30614680e-02  7.78503967e-01 -1.54884342e-01\n",
      "  -9.62483170e-01 -9.17623529e-01 -5.98522142e-01 -4.72323823e-02\n",
      "   0.00000000e+00  3.76443541e-01  1.13020589e+00  5.58965689e-01\n",
      "   2.54865149e-01  3.08096218e-01  2.98708128e-02  0.00000000e+00\n",
      "  -6.13436689e-02  1.47145038e-01  1.21127210e+00  5.17353747e-01\n",
      "  -3.92442318e-01  3.12335497e-01  1.38206315e+00  7.61304684e-01\n",
      "  -3.54332626e-02 -3.00975531e-01  5.25116505e-01  5.95163287e-01\n",
      "  -8.00782764e-01  4.02701789e-01  1.47922891e+00  3.51360760e-01\n",
      "  -2.35964589e-02 -2.99081347e-01 -8.02671708e-01 -2.76311131e-01\n",
      "   6.60514700e-01  1.08495488e+00  6.11157481e-01 -1.35811749e-01]\n",
      " [ 0.00000000e+00 -3.35016487e-01 -7.64353584e-01 -7.23676830e-01\n",
      "   6.87735895e-02  7.95054218e-01  3.01327364e+00  6.39502601e+00\n",
      "  -5.90775571e-02 -5.94203310e-01 -6.85548625e-01  6.03943432e-01\n",
      "  -2.37693836e-01 -9.20138255e-02  3.33669054e+00  6.54337591e+00\n",
      "  -4.46250733e-02 -5.41182057e-01  8.64957171e-03  1.24706444e-03\n",
      "  -9.41402231e-01  1.23488446e-01  3.33791201e+00  4.44703712e+00\n",
      "  -3.33797263e-02  7.77624678e-02  3.92960040e-01 -2.77301435e-01\n",
      "  -2.59133123e-01  1.17949388e+00  1.25755449e+00  1.97363883e+00\n",
      "   0.00000000e+00 -1.75929948e-03  1.27941899e-01  5.69339758e-02\n",
      "   3.74621718e-01  7.17047735e-01 -1.62870854e-01  0.00000000e+00\n",
      "  -6.13436689e-02 -4.19464290e-01 -7.17701320e-01 -2.86851660e-01\n",
      "   6.76364059e-01 -3.59334400e-01 -6.88291091e-01 -8.87416172e-02\n",
      "  -3.54332626e-02 -4.03574986e-01 -1.19531110e+00 -1.85208067e-01\n",
      "   2.89804827e-01 -1.11301003e+00 -7.57435810e-01 -2.09785127e-01\n",
      "  -2.35964589e-02 -2.99081347e-01 -7.34685726e-01 -2.27233223e-01\n",
      "  -9.17048934e-01 -1.04170600e+00 -5.05669803e-01 -1.96007519e-01]\n",
      " [ 0.00000000e+00 -3.35016487e-01 -1.09493684e+00 -2.08016616e+00\n",
      "   7.35365501e-01  1.27420019e+00 -1.08958445e-01 -1.25022923e-01\n",
      "  -5.90775571e-02 -6.24009262e-01 -1.54656566e+00  7.59622451e-01\n",
      "   1.19644995e+00  1.29297554e+00  4.28383491e-02 -1.30433381e-01\n",
      "  -4.46250733e-02 -7.27646281e-01  5.44336133e-01  5.18395094e-01\n",
      "  -3.39802014e-01  1.16109164e+00 -5.48805463e-01 -1.14221844e-01\n",
      "  -3.33797263e-02 -7.85105241e-01 -4.99370932e-01 -1.15984045e+00\n",
      "   1.74444365e-01  7.63977734e-02 -6.28895882e-01 -4.72323823e-02\n",
      "   0.00000000e+00 -6.72372275e-01 -1.21260656e+00 -4.90180219e-01\n",
      "   6.23480541e-01 -1.14908874e+00 -8.22694515e-01  0.00000000e+00\n",
      "  -6.13436689e-02  4.75094177e-01  1.71130314e-01  1.36217503e+00\n",
      "   5.23778482e-02 -1.44653841e+00 -7.98272248e-01 -8.87416172e-02\n",
      "   1.46584682e+01  8.76197635e+00  1.50507822e+00  1.23639392e+00\n",
      "   1.24208282e+00 -1.25796397e-01 -7.57435810e-01 -2.09785127e-01\n",
      "   4.23792402e+01  3.98338224e+00 -3.05315236e-01 -1.62091578e+00\n",
      "   2.41430458e-01 -1.29522580e-01 -5.05669803e-01 -1.96007519e-01]\n",
      " [ 0.00000000e+00 -3.35016487e-01 -1.01735315e+00 -1.19523994e+00\n",
      "  -1.91598115e-02 -5.99995658e-01 -3.69195240e-01 -1.25022923e-01\n",
      "  -5.90775571e-02 -6.21789670e-01 -1.34635957e+00  3.67239980e-01\n",
      "  -2.98721231e-01 -1.03933852e+00 -3.70588706e-01 -9.61584980e-02\n",
      "  -4.46250733e-02 -5.98708254e-01  5.06781716e-02  8.03254410e-01\n",
      "  -3.57032790e-01 -4.31208172e-01  3.89142594e-01  2.57795731e-01\n",
      "  -3.33797263e-02  6.21765290e-01  8.83480201e-01 -5.06248215e-01\n",
      "  -4.78228130e-01  4.89541089e-01  9.95287851e-01  1.03258027e-01\n",
      "   0.00000000e+00  1.87758770e+00  1.12381910e+00  6.32393699e-02\n",
      "   4.26203986e-01  9.63218929e-01  7.89762092e-01  0.00000000e+00\n",
      "   5.73873286e-01  1.75269497e+00  7.96133654e-01  8.28023174e-01\n",
      "   1.12338687e+00  4.75374934e-01 -4.06786130e-01 -8.87416172e-02\n",
      "   3.11940294e-01  2.87091560e-01 -7.60986518e-01 -3.66495281e-01\n",
      "   8.23286940e-01 -7.23333703e-01 -7.53109572e-01 -2.09785127e-01\n",
      "  -2.35964589e-02 -2.68709265e-01 -9.90679510e-01 -1.09874815e+00\n",
      "   6.60153156e-02 -7.79953500e-01 -5.05669803e-01 -1.96007519e-01]]\n"
     ]
    }
   ],
   "source": [
    "kmeans=KMeans(n_clusters=10)#10 clusters\n",
    "kmeans_fit=kmeans.fit(xTrain1)\n",
    "print(\"the labels are:  \\n\")\n",
    "print(kmeans.labels_)\n",
    "#print(labels)\n",
    "centroids=kmeans.cluster_centers_\n",
    "print(\"the centroids are   \\n\")\n",
    "print(centroids)#the centroids"
   ]
  },
  {
   "cell_type": "code",
   "execution_count": 40,
   "metadata": {},
   "outputs": [
    {
     "name": "stdout",
     "output_type": "stream",
     "text": [
      "(360, 64)\n",
      "(360,)\n"
     ]
    }
   ],
   "source": [
    "#testing \n",
    "print(xTest1.shape)#testing feature\n",
    "print(yTest1.shape)#testing label"
   ]
  },
  {
   "cell_type": "code",
   "execution_count": 41,
   "metadata": {},
   "outputs": [
    {
     "name": "stdout",
     "output_type": "stream",
     "text": [
      "the labels are:  \n",
      "\n",
      "[1 4 1 6 6 5 5 2 2 4 1 5 6 6 6 6 5 3 4 2 2 7 2 9 0 4 9 2 1 2 9 0 6 5 2 9 2\n",
      " 5 3 0 5 6 0 0 0 3 5 6 1 5 2 6 0 2 3 3 0 5 6 2 3 1 2 9 1 2 0 6 2 5 5 2 4 0\n",
      " 1 5 1 1 2 0 1 2 6 3 2 2 0 4 5 1 2 0 2 5 5 0 9 5 4 5 4 2 5 6 2 3 7 1 7 5 2\n",
      " 9 5 2 0 0 5 3 6 2 1 2 2 9 5 0 3 6 5 4 2 2 2 4 2 2 4 0 2 6 1 0 6 7 6 0 4 5\n",
      " 4 2 0 0 2 4 6 5 0 0 5 0 6 5 6 4 6 3 5 5 2 2 6 5 3 9 1 6 2 2 6 7 9 2 6 2 3\n",
      " 2 2 2 3 7 0 2 0 5 3 0 5 2 6 9 4 3 5 9 6 9 4 2 3 2 4 2 1 0 7 0 0 6 5 2 1 9\n",
      " 2 2 5 6 5 2 2 5 6 2 2 6 2 2 1 3 0 6 5 5 2 4 5 0 5 2 2 0 4 1 2 0 1 0 2 4 0\n",
      " 3 2 1 6 4 2 0 9 2 2 3 2 6 9 6 2 1 6 5 2 5 9 6 0 4 1 9 4 2 1 9 6 2 9 4 9 2\n",
      " 9 6 1 2 3 5 7 1 3 2 6 3 9 5 3 0 4 4 0 0 2 1 2 9 2 0 1 6 0 0 5 1 3 5 1 5 2\n",
      " 0 6 5 1 0 5 1 4 1 6 9 0 3 2 9 0 1 0 3 5 2 3 0 9 0 0 0]\n"
     ]
    }
   ],
   "source": [
    "#predicting the labels on the test dataset\n",
    "labels_test=kmeans.predict(xTest1)\n",
    "print(\"the labels are:  \\n\")\n",
    "print(labels_test)\n",
    "#these are not actual labels"
   ]
  },
  {
   "cell_type": "code",
   "execution_count": 42,
   "metadata": {},
   "outputs": [],
   "source": [
    "from scipy.stats import mode\n",
    "#finding the actual predicted labels\n",
    "labels_actual_pred = np.zeros_like(labels_test)\n",
    "for i in range(10):\n",
    "    mask = ( labels_test== i)\n",
    "    labels_actual_pred[mask] = mode(yTest1[mask])[0]"
   ]
  },
  {
   "cell_type": "code",
   "execution_count": 43,
   "metadata": {},
   "outputs": [
    {
     "name": "stdout",
     "output_type": "stream",
     "text": [
      "The aacuracy score is :  \n",
      "\n"
     ]
    },
    {
     "data": {
      "text/plain": [
       "0.6527777777777778"
      ]
     },
     "execution_count": 43,
     "metadata": {},
     "output_type": "execute_result"
    }
   ],
   "source": [
    "from sklearn.metrics import accuracy_score\n",
    "print(\"The aacuracy score is :  \\n\")\n",
    "accuracy_score(yTest1, labels_actual_pred)#yTest1  are \"actual\" actual labels"
   ]
  },
  {
   "cell_type": "code",
   "execution_count": 44,
   "metadata": {},
   "outputs": [
    {
     "name": "stdout",
     "output_type": "stream",
     "text": [
      "The confusion matrix is : \n",
      "\n"
     ]
    },
    {
     "data": {
      "text/plain": [
       "array([[27,  0,  0,  0,  0,  0,  0,  0,  0,  0],\n",
       "       [ 0,  0,  8,  0,  0,  0,  0,  9, 18,  0],\n",
       "       [ 1,  0, 27,  0,  0,  0,  0,  2,  5,  1],\n",
       "       [ 0,  0,  0,  0,  0,  2,  0,  1,  0, 26],\n",
       "       [ 0,  0,  0,  0, 27,  0,  0,  3,  0,  0],\n",
       "       [ 0,  0,  0,  0,  0, 22,  1,  5,  1, 11],\n",
       "       [ 0,  0,  0,  0,  0,  0, 44,  0,  0,  0],\n",
       "       [ 0,  0,  0,  0,  0,  1,  0, 32,  6,  0],\n",
       "       [ 0,  0,  0,  0,  0,  2,  0,  4, 22, 11],\n",
       "       [ 0,  0,  0,  0,  0,  1,  0,  6,  0, 34]], dtype=int64)"
      ]
     },
     "execution_count": 44,
     "metadata": {},
     "output_type": "execute_result"
    }
   ],
   "source": [
    "from sklearn.metrics import confusion_matrix\n",
    "print(\"The confusion matrix is : \\n\")\n",
    "confusion_matrix(yTest1, labels_actual_pred)#confusion matrix"
   ]
  },
  {
   "cell_type": "code",
   "execution_count": 56,
   "metadata": {},
   "outputs": [
    {
     "name": "stdout",
     "output_type": "stream",
     "text": [
      "              precision    recall  f1-score   support\n",
      "\n",
      "           0       0.96      1.00      0.98        27\n",
      "           1       0.00      0.00      0.00        35\n",
      "           2       0.77      0.75      0.76        36\n",
      "           3       0.00      0.00      0.00        29\n",
      "           4       1.00      0.90      0.95        30\n",
      "           5       0.79      0.55      0.65        40\n",
      "           6       0.98      1.00      0.99        44\n",
      "           7       0.52      0.82      0.63        39\n",
      "           8       0.42      0.56      0.48        39\n",
      "           9       0.41      0.83      0.55        41\n",
      "\n",
      "   micro avg       0.65      0.65      0.65       360\n",
      "   macro avg       0.58      0.64      0.60       360\n",
      "weighted avg       0.59      0.65      0.60       360\n",
      "\n"
     ]
    },
    {
     "name": "stderr",
     "output_type": "stream",
     "text": [
      "C:\\Users\\Nischal Aryal\\Anaconda3\\lib\\site-packages\\sklearn\\metrics\\classification.py:1143: UndefinedMetricWarning: Precision and F-score are ill-defined and being set to 0.0 in labels with no predicted samples.\n",
      "  'precision', 'predicted', average, warn_for)\n",
      "C:\\Users\\Nischal Aryal\\Anaconda3\\lib\\site-packages\\sklearn\\metrics\\classification.py:1143: UndefinedMetricWarning: Precision and F-score are ill-defined and being set to 0.0 in labels with no predicted samples.\n",
      "  'precision', 'predicted', average, warn_for)\n",
      "C:\\Users\\Nischal Aryal\\Anaconda3\\lib\\site-packages\\sklearn\\metrics\\classification.py:1143: UndefinedMetricWarning: Precision and F-score are ill-defined and being set to 0.0 in labels with no predicted samples.\n",
      "  'precision', 'predicted', average, warn_for)\n"
     ]
    }
   ],
   "source": [
    "#explanation \n",
    "from sklearn.metrics import classification_report\n",
    "print(classification_report(yTest1, labels_actual_pred))"
   ]
  },
  {
   "cell_type": "code",
   "execution_count": 55,
   "metadata": {},
   "outputs": [
    {
     "data": {
      "image/png": "[encoded data removed]",
      "text/plain": [
       "<Figure size 432x288 with 1 Axes>"
      ]
     },
     "metadata": {
      "needs_background": "light"
     },
     "output_type": "display_data"
    }
   ],
   "source": [
    "#visualizing lower dimention\n",
    "import matplotlib.pyplot as pl\n",
    "pl.title('Plot without fitting on 2 dimentional dataset from question 1')\n",
    "pl.scatter(p_components[:, 0], p_components[:, 1], c=yTrain,cmap='inferno')\n",
    "pl.show()\n",
    "\n"
   ]
  },
  {
   "cell_type": "code",
   "execution_count": 54,
   "metadata": {},
   "outputs": [
    {
     "data": {
      "image/png": "[encoded data removed]",
      "text/plain": [
       "<Figure size 432x288 with 1 Axes>"
      ]
     },
     "metadata": {
      "needs_background": "light"
     },
     "output_type": "display_data"
    }
   ],
   "source": [
    "#running k means\n",
    "kmeans_reduced = KMeans(n_clusters=10, random_state=111)\n",
    "kmeans.fit(p_components)\n",
    "#new plot\n",
    "pl.scatter(p_components[:, 0], p_components[:, 1], c=kmeans.labels_,cmap='inferno')\n",
    "pl.xlabel('PRINCIPAL COMPONENT 1')\n",
    "pl.ylabel('PRINCIPAL COMPONENT 2')\n",
    "pl.title('10 Cluster K-Means on 2 dimentional dataset from question 1')\n",
    "pl.show()"
   ]
  },
  {
   "cell_type": "code",
   "execution_count": null,
   "metadata": {},
   "outputs": [],
   "source": []
  }
 ],
 "metadata": {
  "kernelspec": {
   "display_name": "Python 3",
   "language": "python",
   "name": "python3"
  },
  "language_info": {
   "codemirror_mode": {
    "name": "ipython",
    "version": 3
   },
   "file_extension": ".py",
   "mimetype": "text/x-python",
   "name": "python",
   "nbconvert_exporter": "python",
   "pygments_lexer": "ipython3",
   "version": "3.7.1"
  }
 },
 "nbformat": 4,
 "nbformat_minor": 2
}
